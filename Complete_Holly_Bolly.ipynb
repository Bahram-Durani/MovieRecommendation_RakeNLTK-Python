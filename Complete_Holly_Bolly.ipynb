{
  "nbformat": 4,
  "nbformat_minor": 0,
  "metadata": {
    "colab": {
      "provenance": []
    },
    "kernelspec": {
      "name": "python3",
      "display_name": "Python 3"
    },
    "language_info": {
      "name": "python"
    }
  },
  "cells": [
    {
      "cell_type": "code",
      "execution_count": null,
      "metadata": {
        "id": "cUIMNzP3-nEP"
      },
      "outputs": [],
      "source": [
        "import pandas\n",
        "import pandas as pd\n",
        "import numpy as np\n",
        "import requests\n",
        "import bs4 as bs\n",
        "import urllib.request\n",
        "def scrap_movies():\n",
        "    movie_links = [\"https://en.wikipedia.org/wiki/List_of_American_films_of_2016\",\"https://en.wikipedia.org/wiki/List_of_American_films_of_2017\",\"https://en.wikipedia.org/wiki/List_of_American_films_of_2018\",\"https://en.wikipedia.org/wiki/List_of_American_films_of_2019\",\"https://en.wikipedia.org/wiki/List_of_American_films_of_2020\"]\n",
        "    all_dfs=[]\n",
        "    for link in movie_links:\n",
        "        print(\"Scraping movies for year :\"+link.split(\"_\")[len(link.split(\"_\"))-1])\n",
        "        source = urllib.request.urlopen(link).read()\n",
        "        soup = bs.BeautifulSoup(source, 'lxml')\n",
        "        tables = soup.find_all('table', class_='wikitable sortable')\n",
        "        df1 = pandas.read_html(str(tables[0]))[0]\n",
        "        df2 = pd.read_html(str(tables[1]))[0]\n",
        "        df3 = pd.read_html(str(tables[2]))[0]\n",
        "        df4 = pd.read_html(str(tables[3]).replace(\"'1\\\"\\'\", '\"1\"'))[\n",
        "            0]  # avoided \"ValueError: invalid literal for int() with base 10: '1\"'\n",
        "        df_temp = [df1,df2,df3,df4]\n",
        "        all_dfs.append(pandas.concat(df_temp))\n",
        "        print(\"Done\")\n",
        "    combined_df=pandas.concat(all_dfs)\n",
        "    print(\"Merging all movies....\")\n",
        "    combined_df.drop(combined_df.columns[[0,1,3,5,7]], axis=1, inplace=True)\n",
        "    combined_df.dropna()\n",
        "    return combined_df\n",
        "\n",
        "\n",
        "if __name__ == '__main__':\n",
        "    print(\"Starting movie scraping...\")\n",
        "    df = scrap_movies()\n",
        "    print(df.to_string())\n",
        "    print(\"Scraping complete!\")\n",
        "    print(\"Total Movies Scraped :\",len(df))\n"
      ]
    }
  ]
}